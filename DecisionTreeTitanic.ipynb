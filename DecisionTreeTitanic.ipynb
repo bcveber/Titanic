{
  "nbformat": 4,
  "nbformat_minor": 0,
  "metadata": {
    "colab": {
      "name": "Titanic.ipynb",
      "version": "0.3.2",
      "provenance": [],
      "collapsed_sections": []
    },
    "language_info": {
      "codemirror_mode": {
        "name": "ipython",
        "version": 3
      },
      "file_extension": ".py",
      "mimetype": "text/x-python",
      "name": "python",
      "nbconvert_exporter": "python",
      "pygments_lexer": "ipython3",
      "version": "3.7.1"
    },
    "kernelspec": {
      "display_name": "Python 3",
      "language": "python",
      "name": "python3"
    }
  },
  "cells": [
    {
      "cell_type": "code",
      "metadata": {
        "id": "EbjFktVssN2G",
        "colab_type": "code",
        "outputId": "4fde4fba-ae44-4ba3-da4b-7cea54aafc6c",
        "colab": {
          "base_uri": "https://localhost:8080/",
          "height": 34
        }
      },
      "source": [
        "#Library imports\n",
        "import pydot\n",
        "import numpy as np\n",
        "import pandas as pd\n",
        "import seaborn as sns\n",
        "import matplotlib.pyplot as plt\n",
        "from google.colab import drive\n",
        "from sklearn import tree\n",
        "from sklearn.model_selection import KFold\n",
        "from sklearn.metrics import accuracy_score\n",
        "from sklearn.externals.six import StringIO\n",
        "\n",
        "drive.mount('/content/gdrive')\n",
        "\n",
        "%matplotlib inline\n",
        "plt.rcParams['figure.figsize'] = [16, 8]"
      ],
      "execution_count": 0,
      "outputs": [
        {
          "output_type": "stream",
          "text": [
            "Drive already mounted at /content/gdrive; to attempt to forcibly remount, call drive.mount(\"/content/gdrive\", force_remount=True).\n"
          ],
          "name": "stdout"
        }
      ]
    },
    {
      "cell_type": "markdown",
      "metadata": {
        "id": "R_oNX1iusN2M",
        "colab_type": "text"
      },
      "source": [
        "### Data Importing & Analysis"
      ]
    },
    {
      "cell_type": "code",
      "metadata": {
        "id": "S3AyVo6usN2P",
        "colab_type": "code",
        "outputId": "b2581112-35d4-4519-b73f-ff9562d659c7",
        "colab": {
          "base_uri": "https://localhost:8080/",
          "height": 204
        }
      },
      "source": [
        "#import train and test datasets\n",
        "#test_data = pd.read_csv('test.csv')\n",
        "#train_data = pd.read_csv('train.csv')\n",
        "\n",
        "#new cell\n",
        "with open('/content/gdrive/My Drive/Colab_Notebooks/train.csv', 'r') as f1:\n",
        "  train_data = pd.read_csv(f1)\n",
        "  \n",
        "with open('/content/gdrive/My Drive/Colab_Notebooks/test.csv', 'r') as f2:\n",
        "  test_data = pd.read_csv(f2)\n",
        "  \n",
        "  \n",
        "with open('/content/gdrive/My Drive/Colab_Notebooks/submission.csv', 'r') as f3:\n",
        "  submiss_data = pd.read_csv(f3)\n",
        "\n",
        "#print dataset\n",
        "train_data.head()"
      ],
      "execution_count": 0,
      "outputs": [
        {
          "output_type": "execute_result",
          "data": {
            "text/html": [
              "<div>\n",
              "<style scoped>\n",
              "    .dataframe tbody tr th:only-of-type {\n",
              "        vertical-align: middle;\n",
              "    }\n",
              "\n",
              "    .dataframe tbody tr th {\n",
              "        vertical-align: top;\n",
              "    }\n",
              "\n",
              "    .dataframe thead th {\n",
              "        text-align: right;\n",
              "    }\n",
              "</style>\n",
              "<table border=\"1\" class=\"dataframe\">\n",
              "  <thead>\n",
              "    <tr style=\"text-align: right;\">\n",
              "      <th></th>\n",
              "      <th>PassengerId</th>\n",
              "      <th>Survived</th>\n",
              "      <th>Pclass</th>\n",
              "      <th>Name</th>\n",
              "      <th>Sex</th>\n",
              "      <th>Age</th>\n",
              "      <th>SibSp</th>\n",
              "      <th>Parch</th>\n",
              "      <th>Ticket</th>\n",
              "      <th>Fare</th>\n",
              "      <th>Cabin</th>\n",
              "      <th>Embarked</th>\n",
              "    </tr>\n",
              "  </thead>\n",
              "  <tbody>\n",
              "    <tr>\n",
              "      <th>0</th>\n",
              "      <td>1</td>\n",
              "      <td>0</td>\n",
              "      <td>3</td>\n",
              "      <td>Braund, Mr. Owen Harris</td>\n",
              "      <td>male</td>\n",
              "      <td>22.0</td>\n",
              "      <td>1</td>\n",
              "      <td>0</td>\n",
              "      <td>A/5 21171</td>\n",
              "      <td>7.2500</td>\n",
              "      <td>NaN</td>\n",
              "      <td>S</td>\n",
              "    </tr>\n",
              "    <tr>\n",
              "      <th>1</th>\n",
              "      <td>2</td>\n",
              "      <td>1</td>\n",
              "      <td>1</td>\n",
              "      <td>Cumings, Mrs. John Bradley (Florence Briggs Th...</td>\n",
              "      <td>female</td>\n",
              "      <td>38.0</td>\n",
              "      <td>1</td>\n",
              "      <td>0</td>\n",
              "      <td>PC 17599</td>\n",
              "      <td>71.2833</td>\n",
              "      <td>C85</td>\n",
              "      <td>C</td>\n",
              "    </tr>\n",
              "    <tr>\n",
              "      <th>2</th>\n",
              "      <td>3</td>\n",
              "      <td>1</td>\n",
              "      <td>3</td>\n",
              "      <td>Heikkinen, Miss. Laina</td>\n",
              "      <td>female</td>\n",
              "      <td>26.0</td>\n",
              "      <td>0</td>\n",
              "      <td>0</td>\n",
              "      <td>STON/O2. 3101282</td>\n",
              "      <td>7.9250</td>\n",
              "      <td>NaN</td>\n",
              "      <td>S</td>\n",
              "    </tr>\n",
              "    <tr>\n",
              "      <th>3</th>\n",
              "      <td>4</td>\n",
              "      <td>1</td>\n",
              "      <td>1</td>\n",
              "      <td>Futrelle, Mrs. Jacques Heath (Lily May Peel)</td>\n",
              "      <td>female</td>\n",
              "      <td>35.0</td>\n",
              "      <td>1</td>\n",
              "      <td>0</td>\n",
              "      <td>113803</td>\n",
              "      <td>53.1000</td>\n",
              "      <td>C123</td>\n",
              "      <td>S</td>\n",
              "    </tr>\n",
              "    <tr>\n",
              "      <th>4</th>\n",
              "      <td>5</td>\n",
              "      <td>0</td>\n",
              "      <td>3</td>\n",
              "      <td>Allen, Mr. William Henry</td>\n",
              "      <td>male</td>\n",
              "      <td>35.0</td>\n",
              "      <td>0</td>\n",
              "      <td>0</td>\n",
              "      <td>373450</td>\n",
              "      <td>8.0500</td>\n",
              "      <td>NaN</td>\n",
              "      <td>S</td>\n",
              "    </tr>\n",
              "  </tbody>\n",
              "</table>\n",
              "</div>"
            ],
            "text/plain": [
              "   PassengerId  Survived  Pclass  ...     Fare Cabin  Embarked\n",
              "0            1         0       3  ...   7.2500   NaN         S\n",
              "1            2         1       1  ...  71.2833   C85         C\n",
              "2            3         1       3  ...   7.9250   NaN         S\n",
              "3            4         1       1  ...  53.1000  C123         S\n",
              "4            5         0       3  ...   8.0500   NaN         S\n",
              "\n",
              "[5 rows x 12 columns]"
            ]
          },
          "metadata": {
            "tags": []
          },
          "execution_count": 22
        }
      ]
    },
    {
      "cell_type": "code",
      "metadata": {
        "id": "8MCtd52QsN2Y",
        "colab_type": "code",
        "outputId": "7ed47ad8-b2ae-4908-a2d6-449267b3ba11",
        "colab": {
          "base_uri": "https://localhost:8080/",
          "height": 204
        }
      },
      "source": [
        "#drop a few columns which should not affect survival\n",
        "\n",
        "#Like Name, Ticket & Fare\n",
        "del train_data['Name']\n",
        "del train_data['Fare']\n",
        "del train_data['Ticket']\n",
        "del train_data['Cabin']\n",
        "\n",
        "del test_data['Name']\n",
        "del test_data['Fare']\n",
        "del test_data['Ticket']\n",
        "del test_data['Cabin']\n",
        "\n",
        "train_data.head()"
      ],
      "execution_count": 0,
      "outputs": [
        {
          "output_type": "execute_result",
          "data": {
            "text/html": [
              "<div>\n",
              "<style scoped>\n",
              "    .dataframe tbody tr th:only-of-type {\n",
              "        vertical-align: middle;\n",
              "    }\n",
              "\n",
              "    .dataframe tbody tr th {\n",
              "        vertical-align: top;\n",
              "    }\n",
              "\n",
              "    .dataframe thead th {\n",
              "        text-align: right;\n",
              "    }\n",
              "</style>\n",
              "<table border=\"1\" class=\"dataframe\">\n",
              "  <thead>\n",
              "    <tr style=\"text-align: right;\">\n",
              "      <th></th>\n",
              "      <th>PassengerId</th>\n",
              "      <th>Survived</th>\n",
              "      <th>Pclass</th>\n",
              "      <th>Sex</th>\n",
              "      <th>Age</th>\n",
              "      <th>SibSp</th>\n",
              "      <th>Parch</th>\n",
              "      <th>Embarked</th>\n",
              "    </tr>\n",
              "  </thead>\n",
              "  <tbody>\n",
              "    <tr>\n",
              "      <th>0</th>\n",
              "      <td>1</td>\n",
              "      <td>0</td>\n",
              "      <td>3</td>\n",
              "      <td>male</td>\n",
              "      <td>22.0</td>\n",
              "      <td>1</td>\n",
              "      <td>0</td>\n",
              "      <td>S</td>\n",
              "    </tr>\n",
              "    <tr>\n",
              "      <th>1</th>\n",
              "      <td>2</td>\n",
              "      <td>1</td>\n",
              "      <td>1</td>\n",
              "      <td>female</td>\n",
              "      <td>38.0</td>\n",
              "      <td>1</td>\n",
              "      <td>0</td>\n",
              "      <td>C</td>\n",
              "    </tr>\n",
              "    <tr>\n",
              "      <th>2</th>\n",
              "      <td>3</td>\n",
              "      <td>1</td>\n",
              "      <td>3</td>\n",
              "      <td>female</td>\n",
              "      <td>26.0</td>\n",
              "      <td>0</td>\n",
              "      <td>0</td>\n",
              "      <td>S</td>\n",
              "    </tr>\n",
              "    <tr>\n",
              "      <th>3</th>\n",
              "      <td>4</td>\n",
              "      <td>1</td>\n",
              "      <td>1</td>\n",
              "      <td>female</td>\n",
              "      <td>35.0</td>\n",
              "      <td>1</td>\n",
              "      <td>0</td>\n",
              "      <td>S</td>\n",
              "    </tr>\n",
              "    <tr>\n",
              "      <th>4</th>\n",
              "      <td>5</td>\n",
              "      <td>0</td>\n",
              "      <td>3</td>\n",
              "      <td>male</td>\n",
              "      <td>35.0</td>\n",
              "      <td>0</td>\n",
              "      <td>0</td>\n",
              "      <td>S</td>\n",
              "    </tr>\n",
              "  </tbody>\n",
              "</table>\n",
              "</div>"
            ],
            "text/plain": [
              "   PassengerId  Survived  Pclass     Sex   Age  SibSp  Parch Embarked\n",
              "0            1         0       3    male  22.0      1      0        S\n",
              "1            2         1       1  female  38.0      1      0        C\n",
              "2            3         1       3  female  26.0      0      0        S\n",
              "3            4         1       1  female  35.0      1      0        S\n",
              "4            5         0       3    male  35.0      0      0        S"
            ]
          },
          "metadata": {
            "tags": []
          },
          "execution_count": 23
        }
      ]
    },
    {
      "cell_type": "code",
      "metadata": {
        "id": "eq_BjTXlsN2c",
        "colab_type": "code",
        "colab": {}
      },
      "source": [
        "#assign some values for those without age\n",
        "train_data['Age'].fillna(train_data['Age'].mean(), inplace=True)\n",
        "test_data['Age'].fillna(test_data['Age'].mean(), inplace=True)\n",
        "\n",
        "#delete rows without \"Port of Embarkation\"\n",
        "train_data.dropna(inplace=True)\n",
        "test_data.dropna(inplace=True)"
      ],
      "execution_count": 0,
      "outputs": []
    },
    {
      "cell_type": "markdown",
      "metadata": {
        "id": "IoL7CyfAsN2e",
        "colab_type": "text"
      },
      "source": [
        "### Data Analysis based on the selected feature"
      ]
    },
    {
      "cell_type": "markdown",
      "metadata": {
        "id": "kiiN_DIVsN2f",
        "colab_type": "text"
      },
      "source": [
        "- Age Histogram"
      ]
    },
    {
      "cell_type": "code",
      "metadata": {
        "id": "6vZOii42sN2g",
        "colab_type": "code",
        "outputId": "952a0390-ef8a-4f1d-8511-199077725cfe",
        "colab": {
          "base_uri": "https://localhost:8080/",
          "height": 500
        }
      },
      "source": [
        "#Based on Age\n",
        "sns.distplot(train_data.loc[train_data['Survived'] == 1]['Age'])\n",
        "sns.distplot(train_data.loc[train_data['Survived'] == 0]['Age'])\n",
        "plt.show()"
      ],
      "execution_count": 0,
      "outputs": [
        {
          "output_type": "display_data",
          "data": {
            "image/png": "[encoded data removed]",
            "text/plain": [
              "<Figure size 1152x576 with 1 Axes>"
            ]
          },
          "metadata": {
            "tags": []
          }
        }
      ]
    },
    {
      "cell_type": "markdown",
      "metadata": {
        "id": "Ig-v2X40sN2j",
        "colab_type": "text"
      },
      "source": [
        "- Based on Sex"
      ]
    },
    {
      "cell_type": "code",
      "metadata": {
        "id": "LqgROGt7sN2k",
        "colab_type": "code",
        "outputId": "9fa02ed9-448f-4c07-de66-92f3e547023d",
        "colab": {
          "base_uri": "https://localhost:8080/",
          "height": 500
        }
      },
      "source": [
        "#Based on Sex\n",
        "sns.countplot(train_data['Sex'], hue=train_data['Survived'])\n",
        "plt.show()"
      ],
      "execution_count": 0,
      "outputs": [
        {
          "output_type": "display_data",
          "data": {
            "image/png": "[encoded data removed]",
            "text/plain": [
              "<Figure size 1152x576 with 1 Axes>"
            ]
          },
          "metadata": {
            "tags": []
          }
        }
      ]
    },
    {
      "cell_type": "markdown",
      "metadata": {
        "id": "4RDI5KN5sN2o",
        "colab_type": "text"
      },
      "source": [
        "- Economic Status"
      ]
    },
    {
      "cell_type": "code",
      "metadata": {
        "id": "k6gVByPgsN2p",
        "colab_type": "code",
        "outputId": "c7d29e07-eaa8-40e2-d7e9-58c5864f2b43",
        "colab": {
          "base_uri": "https://localhost:8080/",
          "height": 500
        }
      },
      "source": [
        "#Based on Pclass\n",
        "sns.countplot(train_data['Pclass'], hue=train_data['Survived'])\n",
        "plt.show()"
      ],
      "execution_count": 0,
      "outputs": [
        {
          "output_type": "display_data",
          "data": {
            "image/png": "[encoded data removed]",
            "text/plain": [
              "<Figure size 1152x576 with 1 Axes>"
            ]
          },
          "metadata": {
            "tags": []
          }
        }
      ]
    },
    {
      "cell_type": "markdown",
      "metadata": {
        "id": "WnwFPDbMsN2t",
        "colab_type": "text"
      },
      "source": [
        "- Number of Siblings"
      ]
    },
    {
      "cell_type": "code",
      "metadata": {
        "id": "Yud7sswosN2t",
        "colab_type": "code",
        "outputId": "7db9465d-ef1d-4c93-f140-43b395d7cb24",
        "colab": {
          "base_uri": "https://localhost:8080/",
          "height": 500
        }
      },
      "source": [
        "#Based on Sibsp\n",
        "sns.countplot(train_data['SibSp'], hue=train_data['Survived'])\n",
        "plt.show()"
      ],
      "execution_count": 0,
      "outputs": [
        {
          "output_type": "display_data",
          "data": {
            "image/png": "[encoded data removed]",
            "text/plain": [
              "<Figure size 1152x576 with 1 Axes>"
            ]
          },
          "metadata": {
            "tags": []
          }
        }
      ]
    },
    {
      "cell_type": "markdown",
      "metadata": {
        "id": "1XQjSWApsN2x",
        "colab_type": "text"
      },
      "source": [
        "- Number of parents / children aboard the Titanic"
      ]
    },
    {
      "cell_type": "code",
      "metadata": {
        "id": "x1WJ_leFsN2y",
        "colab_type": "code",
        "outputId": "15f8023e-6aec-41d0-ebef-1941c6f0b6c5",
        "colab": {
          "base_uri": "https://localhost:8080/",
          "height": 500
        }
      },
      "source": [
        "#Based on Parch\n",
        "sns.countplot(train_data['Parch'], hue=train_data['Survived'])\n",
        "plt.show()"
      ],
      "execution_count": 0,
      "outputs": [
        {
          "output_type": "display_data",
          "data": {
            "image/png": "[encoded data removed]",
            "text/plain": [
              "<Figure size 1152x576 with 1 Axes>"
            ]
          },
          "metadata": {
            "tags": []
          }
        }
      ]
    },
    {
      "cell_type": "markdown",
      "metadata": {
        "id": "KUjjgY5SsN24",
        "colab_type": "text"
      },
      "source": [
        "Create Decision Tree"
      ]
    },
    {
      "cell_type": "code",
      "metadata": {
        "id": "uckfNk4QsN24",
        "colab_type": "code",
        "outputId": "88eefaed-b9e1-456b-e56f-f1a8814e283c",
        "colab": {
          "base_uri": "https://localhost:8080/",
          "height": 136
        }
      },
      "source": [
        "#before starting training, convert sex & embark to numerical values\n",
        "train_data.replace(to_replace=['male', 'female', 'C', 'Q', 'S'], value=[0, 1, 0, 1, 2], inplace=True)\n",
        "test_data.replace(to_replace=['male', 'female', 'C', 'Q', 'S'], value=[0, 1, 0, 1, 2], inplace=True)\n",
        "\n",
        "model = tree.DecisionTreeClassifier(max_depth=5)\n",
        "\n",
        "#training\n",
        "kf = KFold(n_splits=5)\n",
        "validations = []\n",
        "for train, test in kf.split(train_data):\n",
        "    train = train_data.iloc[train]\n",
        "    test = train_data.iloc[test]\n",
        "    #split datasets\n",
        "    x_train = train.drop(['Survived'], axis=1)\n",
        "    y_train = train['Survived']\n",
        "    \n",
        "    x_test = test.drop(['Survived'], axis=1)\n",
        "    y_test = test['Survived']\n",
        "    \n",
        "    #train dataset\n",
        "    model.fit(X=x_train, y=y_train)\n",
        "    \n",
        "    #calculate accuracy on test dataset\n",
        "    y_pred = model.predict(x_test)\n",
        "    validations.append(accuracy_score(y_test, y_pred))\n",
        "\n",
        "print('validation:', np.mean(validations))\n",
        "\n",
        "#training\n",
        "x_train = train_data.drop(['Survived'], axis=1)\n",
        "y_train = train_data['Survived']\n",
        "print(model.fit(X=x_train, y=y_train))"
      ],
      "execution_count": 0,
      "outputs": [
        {
          "output_type": "stream",
          "text": [
            "validation: 0.782967313585291\n",
            "DecisionTreeClassifier(class_weight=None, criterion='gini', max_depth=5,\n",
            "                       max_features=None, max_leaf_nodes=None,\n",
            "                       min_impurity_decrease=0.0, min_impurity_split=None,\n",
            "                       min_samples_leaf=1, min_samples_split=2,\n",
            "                       min_weight_fraction_leaf=0.0, presort=False,\n",
            "                       random_state=None, splitter='best')\n"
          ],
          "name": "stdout"
        }
      ]
    },
    {
      "cell_type": "code",
      "metadata": {
        "id": "XzsXDyrtsN28",
        "colab_type": "code",
        "colab": {}
      },
      "source": [
        "#testing and submission\n",
        "x_id = test_data['PassengerId']\n",
        "y_pred = model.predict(test_data)\n",
        "#pd.DataFrame({'PassengerId': x_id, 'Survived': y_pred}).to_csv('submission.csv', index=False)\n",
        "pd.DataFrame({'PassengerId': x_id, 'Survived': y_pred}).to_csv('/content/gdrive/My Drive/Colab_Notebooks/submission.csv', index=False)"
      ],
      "execution_count": 0,
      "outputs": []
    },
    {
      "cell_type": "code",
      "metadata": {
        "id": "FZ6bXj1JsN2-",
        "colab_type": "code",
        "colab": {}
      },
      "source": [
        "#Export tree\n",
        "dot_data = StringIO() \n",
        "tree.export_graphviz(model, out_file=dot_data) \n",
        "graph = pydot.graph_from_dot_data(dot_data.getvalue()) \n",
        "graph[0].write_pdf('/content/gdrive/My Drive/Colab_Notebooks/titanic.pdf')"
      ],
      "execution_count": 0,
      "outputs": []
    }
  ]
}